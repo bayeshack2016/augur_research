{
 "cells": [
  {
   "cell_type": "code",
   "execution_count": 58,
   "metadata": {},
   "outputs": [],
   "source": [
    "import requests\n",
    "from requests.compat import urljoin\n",
    "import pandas as pd\n",
    "import json\n",
    "import numpy as np\n",
    "from pandas.io.json import json_normalize\n",
    "import matplotlib.pyplot as plt\n",
    "import matplotlib.dates as mdates\n",
    "from augur.util import annotate\n",
    "import json\n",
    "import re\n",
    "import pandas as pd\n",
    "import seaborn as sns\n",
    "from github import Github\n",
    "import requests\n",
    "import augur\n",
    "import os\n",
    "from augur.datasources.localcsv.localcsv import LocalCSV\n",
    "from augur import logger\n",
    "from augur.util import annotate\n",
    "\n",
    "\n",
    "%matplotlib inline"
   ]
  },
  {
   "cell_type": "code",
   "execution_count": 41,
   "metadata": {},
   "outputs": [
    {
     "data": {
      "text/html": [
       "<div>\n",
       "<style scoped>\n",
       "    .dataframe tbody tr th:only-of-type {\n",
       "        vertical-align: middle;\n",
       "    }\n",
       "\n",
       "    .dataframe tbody tr th {\n",
       "        vertical-align: top;\n",
       "    }\n",
       "\n",
       "    .dataframe thead th {\n",
       "        text-align: right;\n",
       "    }\n",
       "</style>\n",
       "<table border=\"1\" class=\"dataframe\">\n",
       "  <thead>\n",
       "    <tr style=\"text-align: right;\">\n",
       "      <th></th>\n",
       "      <th>best</th>\n",
       "      <th>worst</th>\n",
       "    </tr>\n",
       "  </thead>\n",
       "  <tbody>\n",
       "    <tr>\n",
       "      <th>0</th>\n",
       "      <td>103</td>\n",
       "      <td>1</td>\n",
       "    </tr>\n",
       "  </tbody>\n",
       "</table>\n",
       "</div>"
      ],
      "text/plain": [
       "   best  worst\n",
       "0   103      1"
      ]
     },
     "execution_count": 41,
     "metadata": {},
     "output_type": "execute_result"
    }
   ],
   "source": [
    "github.bus_factor(\"bitcoin\",\"bitcoin\")"
   ]
  },
  {
   "cell_type": "code",
   "execution_count": 17,
   "metadata": {},
   "outputs": [
    {
     "data": {
      "text/html": [
       "<div>\n",
       "<style scoped>\n",
       "    .dataframe tbody tr th:only-of-type {\n",
       "        vertical-align: middle;\n",
       "    }\n",
       "\n",
       "    .dataframe tbody tr th {\n",
       "        vertical-align: top;\n",
       "    }\n",
       "\n",
       "    .dataframe thead th {\n",
       "        text-align: right;\n",
       "    }\n",
       "</style>\n",
       "<table border=\"1\" class=\"dataframe\">\n",
       "  <thead>\n",
       "    <tr style=\"text-align: right;\">\n",
       "      <th></th>\n",
       "      <th>best</th>\n",
       "      <th>worst</th>\n",
       "    </tr>\n",
       "  </thead>\n",
       "  <tbody>\n",
       "    <tr>\n",
       "      <th>0</th>\n",
       "      <td>53</td>\n",
       "      <td>1</td>\n",
       "    </tr>\n",
       "  </tbody>\n",
       "</table>\n",
       "</div>"
      ],
      "text/plain": [
       "   best  worst\n",
       "0    53      1"
      ]
     },
     "execution_count": 17,
     "metadata": {},
     "output_type": "execute_result"
    }
   ],
   "source": [
    "github.bus_factor(\"augurproject\",\"augur\")"
   ]
  },
  {
   "cell_type": "code",
   "execution_count": 42,
   "metadata": {},
   "outputs": [
    {
     "data": {
      "text/html": [
       "<div>\n",
       "<style scoped>\n",
       "    .dataframe tbody tr th:only-of-type {\n",
       "        vertical-align: middle;\n",
       "    }\n",
       "\n",
       "    .dataframe tbody tr th {\n",
       "        vertical-align: top;\n",
       "    }\n",
       "\n",
       "    .dataframe thead th {\n",
       "        text-align: right;\n",
       "    }\n",
       "</style>\n",
       "<table border=\"1\" class=\"dataframe\">\n",
       "  <thead>\n",
       "    <tr style=\"text-align: right;\">\n",
       "      <th></th>\n",
       "      <th>best</th>\n",
       "      <th>worst</th>\n",
       "    </tr>\n",
       "  </thead>\n",
       "  <tbody>\n",
       "    <tr>\n",
       "      <th>0</th>\n",
       "      <td>56</td>\n",
       "      <td>1</td>\n",
       "    </tr>\n",
       "  </tbody>\n",
       "</table>\n",
       "</div>"
      ],
      "text/plain": [
       "   best  worst\n",
       "0    56      1"
      ]
     },
     "execution_count": 42,
     "metadata": {},
     "output_type": "execute_result"
    }
   ],
   "source": [
    "github.bus_factor(\"ethereum\",\"go-ethereum\")"
   ]
  },
  {
   "cell_type": "code",
   "execution_count": 18,
   "metadata": {},
   "outputs": [
    {
     "data": {
      "text/html": [
       "<div>\n",
       "<style scoped>\n",
       "    .dataframe tbody tr th:only-of-type {\n",
       "        vertical-align: middle;\n",
       "    }\n",
       "\n",
       "    .dataframe tbody tr th {\n",
       "        vertical-align: top;\n",
       "    }\n",
       "\n",
       "    .dataframe thead th {\n",
       "        text-align: right;\n",
       "    }\n",
       "</style>\n",
       "<table border=\"1\" class=\"dataframe\">\n",
       "  <thead>\n",
       "    <tr style=\"text-align: right;\">\n",
       "      <th></th>\n",
       "      <th>created_at</th>\n",
       "      <th>count</th>\n",
       "    </tr>\n",
       "  </thead>\n",
       "  <tbody>\n",
       "    <tr>\n",
       "      <th>0</th>\n",
       "      <td>2019-06-11</td>\n",
       "      <td>2</td>\n",
       "    </tr>\n",
       "    <tr>\n",
       "      <th>1</th>\n",
       "      <td>2019-06-12</td>\n",
       "      <td>12</td>\n",
       "    </tr>\n",
       "    <tr>\n",
       "      <th>2</th>\n",
       "      <td>2019-06-13</td>\n",
       "      <td>8</td>\n",
       "    </tr>\n",
       "    <tr>\n",
       "      <th>3</th>\n",
       "      <td>2019-06-14</td>\n",
       "      <td>5</td>\n",
       "    </tr>\n",
       "    <tr>\n",
       "      <th>4</th>\n",
       "      <td>2019-06-17</td>\n",
       "      <td>3</td>\n",
       "    </tr>\n",
       "  </tbody>\n",
       "</table>\n",
       "</div>"
      ],
      "text/plain": [
       "  created_at  count\n",
       "0 2019-06-11      2\n",
       "1 2019-06-12     12\n",
       "2 2019-06-13      8\n",
       "3 2019-06-14      5\n",
       "4 2019-06-17      3"
      ]
     },
     "execution_count": 18,
     "metadata": {},
     "output_type": "execute_result"
    }
   ],
   "source": [
    "closed_issues = github.closed_issues(\"augurproject\",\"augur\")"
   ]
  },
  {
   "cell_type": "code",
   "execution_count": 22,
   "metadata": {},
   "outputs": [],
   "source": [
    "code_commits = github.code_commits(\"augurproject\",\"augur\")"
   ]
  },
  {
   "cell_type": "code",
   "execution_count": 40,
   "metadata": {},
   "outputs": [
    {
     "data": {
      "text/plain": [
       "<matplotlib.legend.Legend at 0x139223e48>"
      ]
     },
     "execution_count": 40,
     "metadata": {},
     "output_type": "execute_result"
    },
    {
     "data": {
      "image/png": "[encoded data removed]",
      "text/plain": [
       "<Figure size 1080x720 with 1 Axes>"
      ]
     },
     "metadata": {},
     "output_type": "display_data"
    }
   ],
   "source": [
    "code_commits[['created_at','count']].set_index('created_at').plot()\n",
    "sns.set(rc={'figure.figsize':(15,10)})\n",
    "plt.legend(fontsize=\"large\")"
   ]
  },
  {
   "cell_type": "code",
   "execution_count": 23,
   "metadata": {},
   "outputs": [],
   "source": [
    "contributors = github.contributors(\"augurproject\",\"augur\")"
   ]
  },
  {
   "cell_type": "code",
   "execution_count": 24,
   "metadata": {},
   "outputs": [],
   "source": [
    "contributors_gender = github.contributors_gender(\"augurproject\",\"augur\")"
   ]
  },
  {
   "cell_type": "code",
   "execution_count": 46,
   "metadata": {},
   "outputs": [
    {
     "data": {
      "text/plain": [
       "M    46\n",
       "F     4\n",
       "Name: gender, dtype: int64"
      ]
     },
     "execution_count": 46,
     "metadata": {},
     "output_type": "execute_result"
    }
   ],
   "source": [
    "contributors_gender.gender.value_counts()"
   ]
  },
  {
   "cell_type": "code",
   "execution_count": null,
   "metadata": {},
   "outputs": [],
   "source": [
    "code_commits[['created_at','count']].set_index('created_at').plot()\n",
    "sns.set(rc={'figure.figsize':(15,10)})\n",
    "plt.legend(fontsize=\"large\")"
   ]
  },
  {
   "cell_type": "code",
   "execution_count": 25,
   "metadata": {},
   "outputs": [],
   "source": [
    "lines_changed = github.lines_of_code_changed(\"augurproject\",\"augur\")"
   ]
  },
  {
   "cell_type": "code",
   "execution_count": 28,
   "metadata": {},
   "outputs": [],
   "source": [
    "open_issues = github.open_issues(\"augurproject\",\"augur\")"
   ]
  },
  {
   "cell_type": "code",
   "execution_count": 163,
   "metadata": {},
   "outputs": [
    {
     "data": {
      "text/plain": [
       "Index(['additions', 'date', 'deletions', 'delta', 'total_lines'], dtype='object')"
      ]
     },
     "execution_count": 163,
     "metadata": {},
     "output_type": "execute_result"
    }
   ],
   "source": [
    "lines_changed.columns"
   ]
  },
  {
   "cell_type": "code",
   "execution_count": null,
   "metadata": {},
   "outputs": [],
   "source": [
    "code_reviews_df = code_reviews(\"augurproject\",\"augur\")"
   ]
  },
  {
   "cell_type": "code",
   "execution_count": null,
   "metadata": {},
   "outputs": [],
   "source": [
    "code_reviews_df.num_reviews.describe()"
   ]
  },
  {
   "cell_type": "code",
   "execution_count": 29,
   "metadata": {},
   "outputs": [
    {
     "data": {
      "text/html": [
       "<div>\n",
       "<style scoped>\n",
       "    .dataframe tbody tr th:only-of-type {\n",
       "        vertical-align: middle;\n",
       "    }\n",
       "\n",
       "    .dataframe tbody tr th {\n",
       "        vertical-align: top;\n",
       "    }\n",
       "\n",
       "    .dataframe thead th {\n",
       "        text-align: right;\n",
       "    }\n",
       "</style>\n",
       "<table border=\"1\" class=\"dataframe\">\n",
       "  <thead>\n",
       "    <tr style=\"text-align: right;\">\n",
       "      <th></th>\n",
       "      <th>createdAt</th>\n",
       "      <th>pullNum</th>\n",
       "      <th>state</th>\n",
       "      <th>num_reviews</th>\n",
       "    </tr>\n",
       "  </thead>\n",
       "  <tbody>\n",
       "    <tr>\n",
       "      <th>0</th>\n",
       "      <td>2019-06-17T22:15:18Z</td>\n",
       "      <td>2505</td>\n",
       "      <td>open</td>\n",
       "      <td>0.0</td>\n",
       "    </tr>\n",
       "    <tr>\n",
       "      <th>1</th>\n",
       "      <td>2019-06-17T21:53:58Z</td>\n",
       "      <td>2504</td>\n",
       "      <td>open</td>\n",
       "      <td>0.0</td>\n",
       "    </tr>\n",
       "    <tr>\n",
       "      <th>2</th>\n",
       "      <td>2019-06-05T07:29:32Z</td>\n",
       "      <td>2342</td>\n",
       "      <td>open</td>\n",
       "      <td>0.0</td>\n",
       "    </tr>\n",
       "    <tr>\n",
       "      <th>3</th>\n",
       "      <td>2019-05-22T08:11:08Z</td>\n",
       "      <td>2231</td>\n",
       "      <td>open</td>\n",
       "      <td>0.0</td>\n",
       "    </tr>\n",
       "    <tr>\n",
       "      <th>4</th>\n",
       "      <td>2019-05-17T11:38:13Z</td>\n",
       "      <td>2194</td>\n",
       "      <td>open</td>\n",
       "      <td>0.0</td>\n",
       "    </tr>\n",
       "  </tbody>\n",
       "</table>\n",
       "</div>"
      ],
      "text/plain": [
       "              createdAt  pullNum state  num_reviews\n",
       "0  2019-06-17T22:15:18Z     2505  open          0.0\n",
       "1  2019-06-17T21:53:58Z     2504  open          0.0\n",
       "2  2019-06-05T07:29:32Z     2342  open          0.0\n",
       "3  2019-05-22T08:11:08Z     2231  open          0.0\n",
       "4  2019-05-17T11:38:13Z     2194  open          0.0"
      ]
     },
     "execution_count": 29,
     "metadata": {},
     "output_type": "execute_result"
    }
   ],
   "source": [
    "code_reviews_df.head()"
   ]
  },
  {
   "cell_type": "code",
   "execution_count": 216,
   "metadata": {},
   "outputs": [
    {
     "data": {
      "image/png": "[encoded data removed]",
      "text/plain": [
       "<Figure size 432x288 with 1 Axes>"
      ]
     },
     "metadata": {
      "needs_background": "light"
     },
     "output_type": "display_data"
    }
   ],
   "source": [
    "#lines_changed[['additions',  'deletions', 'delta', 'total_lines']].plot(figsize = (10,5))\n",
    "\n",
    "# Convert to matplotlib's internal date format.\n",
    "x =  mdates.datestr2num(code_reviews_df.createdAt)\n",
    "y = code_reviews_df[['pullNum','num_reviews']]\n",
    "\n",
    "fig, ax = plt.subplots()\n",
    "\n",
    "ax.plot(x, y)\n",
    "ax.xaxis_date()\n",
    "\n",
    "# Optional. Just rotates x-ticklabels in this case.\n",
    "fig.autofmt_xdate()\n",
    "\n",
    "plt.show()"
   ]
  },
  {
   "cell_type": "code",
   "execution_count": 134,
   "metadata": {},
   "outputs": [],
   "source": [
    "xdef lines_deleted(owner, repo=None): \n",
    "    \"\"\"\n",
    "    Additions and deletions each week\n",
    "\n",
    "    :param owner: The name of the project owner\n",
    "    :param repo: The name of the repo\n",
    "    :return: DataFrame with each row being am issue\n",
    "    \"\"\"\n",
    "    # get the data we need from the GitHub API\n",
    "    # see <project_root>/augur/githubapi.py for examples using the GraphQL API\n",
    "    url = \"https://api.github.com/repos/{}/{}/stats/code_frequency\".format(owner, repo)\n",
    "    json = requests.get(url, auth=('user', key)).json()\n",
    "    # get our data into a dataframe\n",
    "    df = pd.DataFrame(json, columns=['date', 'additions', 'deletions'])\n",
    "    # all timeseries metrics need a 'date' column\n",
    "    df['date'] = pd.to_datetime(df['date'], unit='s', infer_datetime_format=True)\n",
    "    # normalize our data\n",
    "    df['deletions'] = df['deletions'] * -1\n",
    "    # return the dataframe\n",
    "    return df"
   ]
  },
  {
   "cell_type": "code",
   "execution_count": 135,
   "metadata": {},
   "outputs": [],
   "source": [
    "lines_deleted_df = lines_deleted(\"augurproject\",\"augur\")"
   ]
  },
  {
   "cell_type": "code",
   "execution_count": 138,
   "metadata": {},
   "outputs": [
    {
     "data": {
      "text/plain": [
       "<matplotlib.axes._subplots.AxesSubplot at 0x123f52780>"
      ]
     },
     "execution_count": 138,
     "metadata": {},
     "output_type": "execute_result"
    },
    {
     "data": {
      "image/png": "[encoded data removed]",
      "text/plain": [
       "<Figure size 432x288 with 1 Axes>"
      ]
     },
     "metadata": {
      "needs_background": "light"
     },
     "output_type": "display_data"
    }
   ],
   "source": [
    "lines_deleted_df[[\"additions\",\"deletions\"]].plot()"
   ]
  },
  {
   "cell_type": "code",
   "execution_count": 140,
   "metadata": {},
   "outputs": [
    {
     "name": "stderr",
     "output_type": "stream",
     "text": [
      "2019-06-14 23:38:50 C02WV1SMJG5L perceval.backends.core.git[81755] INFO Fetching commits: 'https://github.com/augurproject/augur' git repository from 1970-01-01 00:00:00+00:00 to 2100-01-01 00:00:00+00:00; all branches\n",
      "2019-06-14 23:41:34 C02WV1SMJG5L perceval.backends.core.git[81755] INFO Fetch process completed: 31307 commits fetched\n"
     ]
    },
    {
     "name": "stdout",
     "output_type": "stream",
     "text": [
      "Commits read: 31307\n"
     ]
    }
   ],
   "source": [
    "\n",
    "import json\n",
    "from perceval.backends.core.git import Git\n",
    "\n",
    "# url for the git repo to analyze (uncomment the line you want to analyze)\n",
    "#repo_url = 'http://github.com/chaoss/grimoirelab-perceval'\n",
    "repo_url = 'https://github.com/augurproject/augur'\n",
    "#repo_url = 'https://github.com/git/git.git'\n",
    "# directory for letting Perceval clone the git repo (make sure it is empty)\n",
    "repo_dir = '/tmp/git_repo'\n",
    "\n",
    "# create a Git object, pointing to repo_url, using repo_dir for cloning\n",
    "repo = Git(uri=repo_url, gitpath=repo_dir)\n",
    "\n",
    "number = 0\n",
    "with open('git-commits.json', 'w') as commits_file:\n",
    "    # fetch all commits as an iterator, and dump them to a file, one per line\n",
    "    for commit in repo.fetch():\n",
    "        json.dump(commit, commits_file)\n",
    "        commits_file.write('\\n')\n",
    "        number += 1\n",
    "print(\"Commits read:\", number)"
   ]
  },
  {
   "cell_type": "code",
   "execution_count": 141,
   "metadata": {},
   "outputs": [
    {
     "name": "stdout",
     "output_type": "stream",
     "text": [
      "Total number of commits: 31307\n"
     ]
    }
   ],
   "source": [
    "import json\n",
    "\n",
    "commits = {}\n",
    "with open('git-commits.json') as commits_file:\n",
    "    for line in commits_file:\n",
    "        commit = json.loads(line)\n",
    "        commits[commit['data']['commit']] = commit\n",
    "print(\"Total number of commits:\", len(commits))"
   ]
  },
  {
   "cell_type": "code",
   "execution_count": 142,
   "metadata": {},
   "outputs": [
    {
     "name": "stdout",
     "output_type": "stream",
     "text": [
      "Code Commits (naive): 31307\n"
     ]
    }
   ],
   "source": [
    "code_commits = len(commits)\n",
    "print(\"Code Commits (naive):\", code_commits)"
   ]
  },
  {
   "cell_type": "code",
   "execution_count": 143,
   "metadata": {},
   "outputs": [
    {
     "name": "stdout",
     "output_type": "stream",
     "text": [
      "Code Commits (non-empty): 26860\n"
     ]
    }
   ],
   "source": [
    "code_commits = 0\n",
    "for commit in commits.values():\n",
    "    for file in commit['data']['files']:\n",
    "        if 'action' in file:\n",
    "            code_commits += 1\n",
    "            break\n",
    "                \n",
    "print(\"Code Commits (non-empty):\", code_commits)"
   ]
  },
  {
   "cell_type": "code",
   "execution_count": 144,
   "metadata": {},
   "outputs": [
    {
     "name": "stdout",
     "output_type": "stream",
     "text": [
      "Code Commits (non-merge): 25693\n"
     ]
    }
   ],
   "source": [
    "code_commits = 0\n",
    "for commit in commits.values():\n",
    "    if 'Merge' not in commit['data']:\n",
    "        code_commits += 1\n",
    "                \n",
    "print(\"Code Commits (non-merge):\", code_commits)"
   ]
  },
  {
   "cell_type": "code",
   "execution_count": 145,
   "metadata": {},
   "outputs": [
    {
     "name": "stdout",
     "output_type": "stream",
     "text": [
      "Code Commits (master branch): 30941\n"
     ]
    }
   ],
   "source": [
    "# Find commits in master branch.\n",
    "# Start by adding head to an empty todo list. Then loop until todo set is empty:\n",
    "# for each commit in the todo list, add it to the master set, and go backwards\n",
    "# (finding parents), adding them to the todo set.\n",
    "\n",
    "todo = set()\n",
    "for id, commit in commits.items():\n",
    "    if 'HEAD -> refs/heads/master' in commit['data']['refs']:\n",
    "        todo.add(id)\n",
    "\n",
    "master = set()\n",
    "while len(todo) > 0:\n",
    "    current = todo.pop()\n",
    "    master.add(current)\n",
    "    for parent in commits[current]['data']['parents']:\n",
    "        if parent not in master:\n",
    "            todo.add(parent)\n",
    "    \n",
    "code_commits = len(master)\n",
    "    \n",
    "print(\"Code Commits (master branch):\", code_commits)"
   ]
  },
  {
   "cell_type": "code",
   "execution_count": 146,
   "metadata": {},
   "outputs": [
    {
     "name": "stdout",
     "output_type": "stream",
     "text": [
      "Code Commits (non-empty in master branch): 26534\n"
     ]
    }
   ],
   "source": [
    "code_commits = 0\n",
    "for commit_id in master:\n",
    "        commit = commits[commit_id]\n",
    "        for file in commit['data']['files']:\n",
    "            if 'action' in file:\n",
    "                code_commits += 1\n",
    "                break\n",
    "\n",
    "print(\"Code Commits (non-empty in master branch):\", code_commits)"
   ]
  },
  {
   "cell_type": "code",
   "execution_count": 147,
   "metadata": {},
   "outputs": [],
   "source": [
    "import datetime\n",
    "import pandas as pd\n",
    "\n",
    "commits_summary = []\n",
    "for commit in commits.values():\n",
    "    summary = {\n",
    "        'hash': commit['data']['commit'],\n",
    "        'author': commit['data']['Author'],\n",
    "        'author_date': datetime.datetime.strptime(commit['data']['AuthorDate'],\n",
    "                                                \"%a %b %d %H:%M:%S %Y %z\"),\n",
    "        'commit': commit['data']['Commit'],\n",
    "        'commit_date': datetime.datetime.strptime(commit['data']['CommitDate'],\n",
    "                                                \"%a %b %d %H:%M:%S %Y %z\"),\n",
    "        'files_no': len(commit['data']['files'])\n",
    "    }\n",
    "    actions = 0\n",
    "    for file in commit['data']['files']:\n",
    "        if 'action' in file:\n",
    "            actions += 1\n",
    "    summary['files_action'] = actions\n",
    "    if 'Merge' in commit['data']:\n",
    "        summary['merge'] = True\n",
    "    else:\n",
    "        summary['merge'] = False\n",
    "    if commit['data']['commit'] in master:\n",
    "        summary['master'] = True\n",
    "    else:\n",
    "        summary['master'] = False        \n",
    "    commits_summary.append(summary)\n",
    "\n",
    "    commits_df = pd.DataFrame(commits_summary)\n",
    "    commits_df['author_date'] = pd.to_datetime(commits_df['author_date'], utc=True)\n",
    "    commits_df['commit_date'] = pd.to_datetime(commits_df['commit_date'], utc=True)"
   ]
  },
  {
   "cell_type": "code",
   "execution_count": 148,
   "metadata": {},
   "outputs": [
    {
     "name": "stdout",
     "output_type": "stream",
     "text": [
      "Total number of commits: 31307\n",
      "Code Commits (naive): 31307\n",
      "Code Commits (non-empty): 26860\n",
      "Code Commits (non-merge): 25693\n",
      "Code Commits (master branch): 30941\n",
      "Code Commits (non-empty in master branch): 26534\n"
     ]
    }
   ],
   "source": [
    "print(\"Total number of commits:\", len(commits_df.index))\n",
    "\n",
    "print(\"Code Commits (naive):\", len(commits_df.index))\n",
    "\n",
    "print(\"Code Commits (non-empty):\", len(commits_df[commits_df['files_action']>0].index))\n",
    "\n",
    "print(\"Code Commits (non-merge):\", len(commits_df[commits_df['merge']==False].index))\n",
    "\n",
    "print(\"Code Commits (master branch):\", len(commits_df[commits_df['master']==True].index))\n",
    "\n",
    "print(\"Code Commits (non-empty in master branch):\",\n",
    "     len(commits_df[(commits_df['files_action']>0) & (commits_df['master']==True)].index))"
   ]
  },
  {
   "cell_type": "code",
   "execution_count": 149,
   "metadata": {},
   "outputs": [
    {
     "data": {
      "text/plain": [
       "year  month\n",
       "2014  12        159\n",
       "2015  1          58\n",
       "      2         188\n",
       "      3         200\n",
       "      4         348\n",
       "      5         462\n",
       "      6         385\n",
       "      7         269\n",
       "      8         145\n",
       "      9         191\n",
       "      10         59\n",
       "      11         77\n",
       "      12        115\n",
       "2016  1         293\n",
       "      2         431\n",
       "      3         250\n",
       "      4         296\n",
       "      5         451\n",
       "      6        1309\n",
       "      7         809\n",
       "      8         815\n",
       "      9         868\n",
       "      10        679\n",
       "      11        603\n",
       "      12        559\n",
       "2017  1         755\n",
       "      2         790\n",
       "      3         578\n",
       "      4         547\n",
       "      5         574\n",
       "      6         391\n",
       "      7         273\n",
       "      8         629\n",
       "      9         781\n",
       "      10       1255\n",
       "      11       1132\n",
       "      12        708\n",
       "2018  1         767\n",
       "      2         974\n",
       "      3        1097\n",
       "      4         863\n",
       "      5        1658\n",
       "      6         992\n",
       "      7        1681\n",
       "      8        1083\n",
       "      9         875\n",
       "      10        661\n",
       "      11        459\n",
       "      12        259\n",
       "2019  1         399\n",
       "      2         253\n",
       "      3         124\n",
       "      4         217\n",
       "      5         315\n",
       "      6         198\n",
       "Name: author_date, dtype: int64"
      ]
     },
     "execution_count": 149,
     "metadata": {},
     "output_type": "execute_result"
    }
   ],
   "source": [
    "by_month = commits_df['author_date'] \\\n",
    "    .groupby([commits_df.author_date.dt.year.rename('year'),\n",
    "              commits_df.author_date.dt.month.rename('month')]) \\\n",
    "    .agg('count')\n",
    "by_month"
   ]
  },
  {
   "cell_type": "code",
   "execution_count": 157,
   "metadata": {},
   "outputs": [
    {
     "data": {
      "text/plain": [
       "<matplotlib.axes._subplots.AxesSubplot at 0x1423316d8>"
      ]
     },
     "execution_count": 157,
     "metadata": {},
     "output_type": "execute_result"
    },
    {
     "data": {
      "image/png": "[encoded data removed]",
      "text/plain": [
       "<Figure size 1440x720 with 1 Axes>"
      ]
     },
     "metadata": {
      "needs_background": "light"
     },
     "output_type": "display_data"
    }
   ],
   "source": [
    "by_month.plot(figsize=(20,10))"
   ]
  },
  {
   "cell_type": "code",
   "execution_count": null,
   "metadata": {},
   "outputs": [],
   "source": []
  }
 ],
 "metadata": {
  "kernelspec": {
   "display_name": "Python 3",
   "language": "python",
   "name": "python3"
  },
  "language_info": {
   "codemirror_mode": {
    "name": "ipython",
    "version": 3
   },
   "file_extension": ".py",
   "mimetype": "text/x-python",
   "name": "python",
   "nbconvert_exporter": "python",
   "pygments_lexer": "ipython3",
   "version": "3.7.2"
  }
 },
 "nbformat": 4,
 "nbformat_minor": 2
}
